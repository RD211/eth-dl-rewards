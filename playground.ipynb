{
 "cells": [
  {
   "cell_type": "code",
   "execution_count": null,
   "metadata": {},
   "outputs": [],
   "source": [
    "from datasets import load_dataset\n",
    "from transformers import AutoTokenizer\n",
    "ds = load_dataset(\"eth-dl-rewards/pref-data-math\")\n",
    "\n",
    "ds['train'] = ds['train'].map(lambda x: {\"accepted\": x['accepted'].replace('<|start_header_id|>assistant<|end_header_id|>\\n\\n', ''), \"rejected\": x['rejected'].replace('<|start_header_id|>assistant<|end_header_id|>\\n\\n', '')})"
   ]
  }
 ],
 "metadata": {
  "kernelspec": {
   "display_name": "base",
   "language": "python",
   "name": "python3"
  },
  "language_info": {
   "codemirror_mode": {
    "name": "ipython",
    "version": 3
   },
   "file_extension": ".py",
   "mimetype": "text/x-python",
   "name": "python",
   "nbconvert_exporter": "python",
   "pygments_lexer": "ipython3",
   "version": "3.12.2"
  }
 },
 "nbformat": 4,
 "nbformat_minor": 2
}
